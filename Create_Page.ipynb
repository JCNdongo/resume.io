{
 "cells": [
  {
   "cell_type": "code",
   "execution_count": 2,
   "id": "b0b98026",
   "metadata": {},
   "outputs": [
    {
     "data": {
      "text/html": [
       "\n",
       "<iframe src=\"JeanClaude_Ndongo_CV.pdf\" width=\"100%\" height=\"500px\">\n",
       "    Your browser does not support PDFs. \n",
       "    <a href=\"JeanClaude_Ndongo_CV.pdf\">Download the PDF</a>.\n",
       "</iframe>\n"
      ],
      "text/plain": [
       "<IPython.core.display.HTML object>"
      ]
     },
     "metadata": {},
     "output_type": "display_data"
    }
   ],
   "source": [
    "from IPython.core.display import display, HTML\n",
    "\n",
    "html_code = \"\"\"\n",
    "<iframe src=\"JeanClaude_Ndongo_CV.pdf\" width=\"100%\" height=\"500px\">\n",
    "    Your browser does not support PDFs. \n",
    "    <a href=\"JeanClaude_Ndongo_CV.pdf\">Download the PDF</a>.\n",
    "</iframe>\n",
    "\"\"\"\n",
    "\n",
    "display(HTML(html_code))\n"
   ]
  }
 ],
 "metadata": {
  "kernelspec": {
   "display_name": "PythonData",
   "language": "python",
   "name": "pythondata"
  },
  "language_info": {
   "codemirror_mode": {
    "name": "ipython",
    "version": 3
   },
   "file_extension": ".py",
   "mimetype": "text/x-python",
   "name": "python",
   "nbconvert_exporter": "python",
   "pygments_lexer": "ipython3",
   "version": "3.7.7"
  }
 },
 "nbformat": 4,
 "nbformat_minor": 5
}
